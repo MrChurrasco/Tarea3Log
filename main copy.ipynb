{
 "cells": [
  {
   "attachments": {},
   "cell_type": "markdown",
   "metadata": {},
   "source": [
    "# Main"
   ]
  },
  {
   "attachments": {},
   "cell_type": "markdown",
   "metadata": {},
   "source": [
    "## Librerias a utilizar"
   ]
  },
  {
   "cell_type": "code",
   "execution_count": 1,
   "metadata": {},
   "outputs": [],
   "source": [
    "import matplotlib.pyplot as plt\n",
    "import numpy as np\n",
    "import seaborn as sns\n",
    "import pandas as pd\n",
    "import time\n",
    "import sys\n",
    "import hashlib\n",
    "import multiprocessing as mp"
   ]
  },
  {
   "attachments": {},
   "cell_type": "markdown",
   "metadata": {},
   "source": [
    "## Importando CSV"
   ]
  },
  {
   "cell_type": "code",
   "execution_count": 2,
   "metadata": {},
   "outputs": [],
   "source": [
    "df_names = pd.read_table('Popular-Baby-Names-Final.csv', dtype={\"Name\": \"string\"})"
   ]
  },
  {
   "cell_type": "code",
   "execution_count": 3,
   "metadata": {},
   "outputs": [
    {
     "name": "stdout",
     "output_type": "stream",
     "text": [
      "<class 'pandas.core.frame.DataFrame'>\n",
      "RangeIndex: 93889 entries, 0 to 93888\n",
      "Data columns (total 1 columns):\n",
      " #   Column  Non-Null Count  Dtype \n",
      "---  ------  --------------  ----- \n",
      " 0   Name    93888 non-null  string\n",
      "dtypes: string(1)\n",
      "memory usage: 733.6 KB\n"
     ]
    }
   ],
   "source": [
    "df_names.info()"
   ]
  },
  {
   "cell_type": "code",
   "execution_count": 4,
   "metadata": {},
   "outputs": [],
   "source": [
    "array_names = df_names.dropna().Name.to_numpy()\n",
    "array_names.astype(str, copy=False)\n",
    "del df_names"
   ]
  },
  {
   "cell_type": "code",
   "execution_count": 5,
   "metadata": {},
   "outputs": [
    {
     "data": {
      "text/plain": [
       "751216"
      ]
     },
     "execution_count": 5,
     "metadata": {},
     "output_type": "execute_result"
    }
   ],
   "source": [
    "sys.getsizeof(array_names)"
   ]
  },
  {
   "cell_type": "code",
   "execution_count": 6,
   "metadata": {},
   "outputs": [],
   "source": [
    "df_movie = pd.read_csv(\"Film-Names.csv\", skiprows=1,names=[\"Name\"], dtype={\"Name\": \"string\"})"
   ]
  },
  {
   "cell_type": "code",
   "execution_count": 7,
   "metadata": {},
   "outputs": [],
   "source": [
    "df_movie = df_movie.replace(\";\",\"\", regex=True)"
   ]
  },
  {
   "cell_type": "code",
   "execution_count": 8,
   "metadata": {},
   "outputs": [],
   "source": [
    "array_movies = df_movie.dropna().Name.to_numpy()\n",
    "array_movies.astype(str, copy=False)\n",
    "del df_movie"
   ]
  },
  {
   "cell_type": "code",
   "execution_count": 9,
   "metadata": {},
   "outputs": [
    {
     "data": {
      "text/plain": [
       "30576"
      ]
     },
     "execution_count": 9,
     "metadata": {},
     "output_type": "execute_result"
    }
   ],
   "source": [
    "sys.getsizeof(array_movies)"
   ]
  },
  {
   "attachments": {},
   "cell_type": "markdown",
   "metadata": {},
   "source": [
    "## Creando el Filtro Bloom"
   ]
  },
  {
   "cell_type": "code",
   "execution_count": 10,
   "metadata": {},
   "outputs": [
    {
     "name": "stdout",
     "output_type": "stream",
     "text": [
      "Value ola: [5, 5, 5]\n",
      "Value perro: [9, 9, 9]\n",
      "Value 123: [8, 8, 8]\n",
      "Value xd: [9, 9, 9]\n",
      "Value aaaaaaaaaaaaaaaaahhhh: [2, 2, 2]\n",
      "Value ola: [4, 7, 5]\n",
      "Value perro: [1, 5, 8]\n",
      "Value 123: [2, 3, 9]\n",
      "Value xd: [6, 9, 2]\n",
      "Value aaaaaaaaaaaaaaaaahhhh: [8, 4, 3]\n"
     ]
    }
   ],
   "source": [
    "# Función que crea un arreglo con funciones de hashing, se usa como muestra el siguiente ejemplo\n",
    "def create_hash_functions(k, m):\n",
    "    hash_functions = []\n",
    "    for i in range(k):\n",
    "        def hash_function(value):\n",
    "            hash_object = hashlib.sha256(str(i).encode('utf-8'))\n",
    "            hash_object.update(str(value).encode('utf-8'))\n",
    "            hash_value = int(hash_object.hexdigest(), 16)\n",
    "            return hash_value % m\n",
    "        hash_functions.append(hash_function)\n",
    "    return hash_functions\n",
    "\n",
    "#----------------------------------------\n",
    "# Ejemplo de prueba:\n",
    "\n",
    "# Se crea un arreglo con k=3 funciones hashing y largo del arreglo m=10 bits\n",
    "hash_functions = create_hash_functions(3, 10)\n",
    "\n",
    "# Conjunto de elementos de prueba\n",
    "values = [\"ola\", \"perro\", \"123\", \"xd\", \"aaaaaaaaaaaaaaaaahhhh\"]\n",
    "\n",
    "# Por cada elemento en values, calculo el hashing (es decir la posición en M) por cada función de hashing (en nuestro caso las funciones son k=3)\n",
    "for value in values:\n",
    "    hash_values = [hash_function(value) for hash_function in hash_functions]\n",
    "    print(f\"Value {value}: {hash_values}\")\n",
    "\n",
    "#----------------------------------------\n",
    "\n",
    "#Intento 2 de la creación de las funciones de hashing:\n",
    "def hash_generator(m: int):\n",
    "    i = 0\n",
    "    while True:\n",
    "        # Define una función hash que toma un valor como entrada y devuelve un valor hash\n",
    "        def hash_function(value):\n",
    "            nonlocal i\n",
    "            # Crea un objeto hash utilizando SHA-256 y la semilla i\n",
    "            hash_object = hashlib.sha256(str(i).encode('utf-8'))\n",
    "            # Actualiza el objeto hash con el valor de entrada\n",
    "            hash_object.update(str(value).encode('utf-8'))\n",
    "            # Obtiene el valor hash y lo convierte en un número entero\n",
    "            hash_value = int(hash_object.hexdigest(), 16)\n",
    "            # Incrementa la semilla i\n",
    "            i += 1\n",
    "            # Devuelve el valor hash módulo m\n",
    "            return hash_value % m\n",
    "        # Devuelve la función hash creada\n",
    "        yield hash_function\n",
    "\n",
    "# create a hash generator with range m (length of M)\n",
    "m=10\n",
    "hash_gen = hash_generator(10)\n",
    "\n",
    "# generate k=3 hash functions\n",
    "k = 3\n",
    "hash_functions = [next(hash_gen) for _ in range(k)]\n",
    "\n",
    "# apply each value to each hash function\n",
    "values = [\"ola\", \"perro\", \"123\", \"xd\", \"aaaaaaaaaaaaaaaaahhhh\"]\n",
    "for value in values:\n",
    "    hash_values = [hash_function(value) for hash_function in hash_functions]\n",
    "    print(f\"Value {value}: {hash_values}\")\n"
   ]
  },
  {
   "attachments": {},
   "cell_type": "markdown",
   "metadata": {},
   "source": [
    "## Creando búsquedas"
   ]
  },
  {
   "cell_type": "code",
   "execution_count": 11,
   "metadata": {},
   "outputs": [],
   "source": [
    "class SearchBloomExp:\n",
    "    \n",
    "    def __init__(self, database: np.ndarray[str], num_funct_hash: int, size_array_M: int) -> None:\n",
    "        self.arrayM = np.zeros(size_array_M, dtype=int)\n",
    "        hash_gen = hash_generator(size_array_M)\n",
    "        self.listFuncHash = [next(hash_gen) for _ in range(num_funct_hash)]\n",
    "        self.db = database.copy()\n",
    "        # train function hash\n",
    "        for x in self.db:\n",
    "            list_index = [f_hash(x) for f_hash in self.listFuncHash]\n",
    "            for y in list_index:\n",
    "                self.arrayM[y] = 1\n",
    "            \n",
    "        \n",
    "    def busqueda_sin_filtro(self, texto: str) -> bool:\n",
    "        for name in self.db:\n",
    "            if (name == texto):\n",
    "                return True\n",
    "        return False\n",
    "    \n",
    "    def filtro_bloom(self, texto: str) -> bool:\n",
    "        # Obtenemos\n",
    "        list_index = [f_hash(texto) for f_hash in self.listFuncHash]\n",
    "        return bool(np.array([self.arrayM[y] for y in list_index]).prod())"
   ]
  },
  {
   "cell_type": "code",
   "execution_count": null,
   "metadata": {},
   "outputs": [],
   "source": [
    "def search(name: str, test: SearchBloomExp, queue: mp.Queue) -> None:\n",
    "    res_filter = test.filtro_bloom(name)\n",
    "    res_search = test.busqueda_sin_filtro(name)\n",
    "    time_filter = time.perf_counter_ns()\n",
    "    res_filter = test.filtro_bloom(name)\n",
    "    time_filter = time.perf_counter_ns() - time_filter\n",
    "    time_search = time.perf_counter_ns()\n",
    "    res_search = test.busqueda_sin_filtro(name)\n",
    "    time_search = time.perf_counter_ns() - time_search\n",
    "    queue.put((name, res_filter, res_search, time_filter, time_search))"
   ]
  },
  {
   "attachments": {},
   "cell_type": "markdown",
   "metadata": {},
   "source": [
    "## Experimentos"
   ]
  },
  {
   "cell_type": "code",
   "execution_count": 117,
   "metadata": {},
   "outputs": [],
   "source": [
    "word_search = []\n",
    "value_filter = []\n",
    "value_search = []\n",
    "time_filter = []\n",
    "time_search = []\n",
    "num_funct_hash = []\n",
    "size_array = []\n",
    "# Condiciones del experimento\n",
    "k_max = 100\n",
    "M_max = 100\n",
    "seed = 1234\n",
    "rng = np.random.default_rng(seed=seed)\n",
    "database = array_names\n",
    "data_false = array_movies\n",
    "size_test = 100\n",
    "pool = mp.Pool(mp.cpu_count())\n",
    "queue = mp.Queue()\n",
    "for k in range(3,k_max+1):\n",
    "    for M in range(3,M_max+1):\n",
    "        # Creamos un objeto que nos ayudara con los procesos internos\n",
    "        test = SearchBloomExp(database=database,num_funct_hash=k+1,size_array_M=M+1)\n",
    "        # Partiremos haciendo que busque elementos\n",
    "        # que sabemos que estan en la base de datos\n",
    "        # analizando los resultados del filtro como \n",
    "        # de buscar directamente en la base de datos\n",
    "        sample_database = rng.choice(database, size=size_test,replace=False).astype(str,copy=False)\n",
    "        word_search += [txt for txt in sample_database]\n",
    "        num_funct_hash += [k for _ in sample_database]   \n",
    "        size_array += [M for _ in sample_database]\n",
    "        results = [pool.apply_async(search, args=(name, test, queue)) for name in sample_database]\n",
    "        for i in range(len(sample_database)):\n",
    "            name, res_filter, res_search, time_filter, time_search = queue.get()\n",
    "            word_search.append(name)\n",
    "            value_filter.append(res_filter)\n",
    "            value_search.append(res_search)\n",
    "            time_filter.append(time_filter)\n",
    "            time_search.append(time_search)\n",
    "        sample_data_false = rng.choice(data_false, size=size_test,replace=False).astype(str,copy=False)\n",
    "        # Ahora analizamos los tiempos de las busquedas infrutiferas\n",
    "        word_search += [txt for txt in sample_data_false]\n",
    "        num_funct_hash += [k for _ in sample_data_false]   \n",
    "        size_array += [M for _ in sample_data_false]\n",
    "        results = [pool.apply_async(search, args=(name, test, queue)) for name in sample_data_false]\n",
    "        for i in range(len(sample_data_false)):\n",
    "            name, res_filter, res_search, time_filter, time_search = queue.get()\n",
    "            word_search.append(name)\n",
    "            value_filter.append(res_filter)\n",
    "            value_search.append(res_search)\n",
    "            time_filter.append(time_filter)\n",
    "            time_search.append(time_search)\n",
    "        # Liberamos memoria y dejamos la variable test limpia\n",
    "        del test\n",
    "pool.close()\n",
    "pool.join()\n",
    "dict_data = {\"WordSearch\":word_search,\n",
    "             \"ValueFilter\":value_filter,\n",
    "             \"ValueSearch\":value_search,\n",
    "             \"TimeFilter\":time_filter,\n",
    "             \"TimeSearch\":time_search,\n",
    "             \"NumFunctHash\": num_funct_hash,\n",
    "             \"SizeArray\": size_array,\n",
    "             }\n",
    "# Escribir los resultados en un archivo de texto\n",
    "with open(\"resultados.txt\", \"a+\") as f:\n",
    "    f.seek(0)\n",
    "    first_line = f.readline()\n",
    "    if not first_line:\n",
    "        # Si el archivo está vacío, escribir los encabezados\n",
    "        f.write(\"WordSearch,ValueFilter,ValueSearch,TimeFilter,TimeSearch,NumFunctHash,SizeArray\\n\")\n",
    "    # Escribir los resultados\n",
    "    for i in range(len(word_search)):\n",
    "        f.write(f\"{word_search[i]},{value_filter[i]},{value_search[i]},{time_filter[i]},{time_search[i]},{num_funct_hash[i]},{size_array[i]}\\n\")\n"
   ]
  },
  {
   "cell_type": "code",
   "execution_count": 62,
   "metadata": {},
   "outputs": [
    {
     "data": {
      "text/html": [
       "<div>\n",
       "<style scoped>\n",
       "    .dataframe tbody tr th:only-of-type {\n",
       "        vertical-align: middle;\n",
       "    }\n",
       "\n",
       "    .dataframe tbody tr th {\n",
       "        vertical-align: top;\n",
       "    }\n",
       "\n",
       "    .dataframe thead th {\n",
       "        text-align: right;\n",
       "    }\n",
       "</style>\n",
       "<table border=\"1\" class=\"dataframe\">\n",
       "  <thead>\n",
       "    <tr style=\"text-align: right;\">\n",
       "      <th></th>\n",
       "      <th>WordSearch</th>\n",
       "      <th>ValueFilter</th>\n",
       "      <th>ValueSearch</th>\n",
       "      <th>TimeFilter</th>\n",
       "      <th>TimeSearch</th>\n",
       "      <th>NumFunctHash</th>\n",
       "      <th>SizeArray</th>\n",
       "    </tr>\n",
       "  </thead>\n",
       "  <tbody>\n",
       "    <tr>\n",
       "      <th>0</th>\n",
       "      <td>LEVERIA</td>\n",
       "      <td>True</td>\n",
       "      <td>True</td>\n",
       "      <td>19700</td>\n",
       "      <td>250000</td>\n",
       "      <td>3</td>\n",
       "      <td>3</td>\n",
       "    </tr>\n",
       "    <tr>\n",
       "      <th>1</th>\n",
       "      <td>JAZAIAH</td>\n",
       "      <td>True</td>\n",
       "      <td>True</td>\n",
       "      <td>9200</td>\n",
       "      <td>1300400</td>\n",
       "      <td>3</td>\n",
       "      <td>3</td>\n",
       "    </tr>\n",
       "    <tr>\n",
       "      <th>2</th>\n",
       "      <td>TANLEY</td>\n",
       "      <td>True</td>\n",
       "      <td>True</td>\n",
       "      <td>18600</td>\n",
       "      <td>1394100</td>\n",
       "      <td>3</td>\n",
       "      <td>3</td>\n",
       "    </tr>\n",
       "    <tr>\n",
       "      <th>3</th>\n",
       "      <td>IZAIAS</td>\n",
       "      <td>True</td>\n",
       "      <td>True</td>\n",
       "      <td>34900</td>\n",
       "      <td>1215300</td>\n",
       "      <td>3</td>\n",
       "      <td>3</td>\n",
       "    </tr>\n",
       "    <tr>\n",
       "      <th>4</th>\n",
       "      <td>AVIANNAH</td>\n",
       "      <td>True</td>\n",
       "      <td>True</td>\n",
       "      <td>22600</td>\n",
       "      <td>1984900</td>\n",
       "      <td>3</td>\n",
       "      <td>3</td>\n",
       "    </tr>\n",
       "    <tr>\n",
       "      <th>...</th>\n",
       "      <td>...</td>\n",
       "      <td>...</td>\n",
       "      <td>...</td>\n",
       "      <td>...</td>\n",
       "      <td>...</td>\n",
       "      <td>...</td>\n",
       "      <td>...</td>\n",
       "    </tr>\n",
       "    <tr>\n",
       "      <th>31735</th>\n",
       "      <td>MAMON</td>\n",
       "      <td>True</td>\n",
       "      <td>True</td>\n",
       "      <td>68900</td>\n",
       "      <td>350500</td>\n",
       "      <td>25</td>\n",
       "      <td>25</td>\n",
       "    </tr>\n",
       "    <tr>\n",
       "      <th>31736</th>\n",
       "      <td>ROMEO SANTOS: UTOPIA LIVE FROM METLIFE STADIUM</td>\n",
       "      <td>True</td>\n",
       "      <td>False</td>\n",
       "      <td>62500</td>\n",
       "      <td>2362300</td>\n",
       "      <td>25</td>\n",
       "      <td>25</td>\n",
       "    </tr>\n",
       "    <tr>\n",
       "      <th>31737</th>\n",
       "      <td>PAULIE</td>\n",
       "      <td>True</td>\n",
       "      <td>True</td>\n",
       "      <td>102100</td>\n",
       "      <td>431100</td>\n",
       "      <td>25</td>\n",
       "      <td>25</td>\n",
       "    </tr>\n",
       "    <tr>\n",
       "      <th>31738</th>\n",
       "      <td>LIFE OF CRIME: 1984-2020</td>\n",
       "      <td>True</td>\n",
       "      <td>False</td>\n",
       "      <td>78200</td>\n",
       "      <td>2362000</td>\n",
       "      <td>25</td>\n",
       "      <td>25</td>\n",
       "    </tr>\n",
       "    <tr>\n",
       "      <th>31739</th>\n",
       "      <td>GENERATION HUSTLE</td>\n",
       "      <td>True</td>\n",
       "      <td>False</td>\n",
       "      <td>101500</td>\n",
       "      <td>2360000</td>\n",
       "      <td>25</td>\n",
       "      <td>25</td>\n",
       "    </tr>\n",
       "  </tbody>\n",
       "</table>\n",
       "<p>31740 rows × 7 columns</p>\n",
       "</div>"
      ],
      "text/plain": [
       "                                           WordSearch  ValueFilter  \\\n",
       "0                                             LEVERIA         True   \n",
       "1                                             JAZAIAH         True   \n",
       "2                                              TANLEY         True   \n",
       "3                                              IZAIAS         True   \n",
       "4                                            AVIANNAH         True   \n",
       "...                                               ...          ...   \n",
       "31735                                           MAMON         True   \n",
       "31736  ROMEO SANTOS: UTOPIA LIVE FROM METLIFE STADIUM         True   \n",
       "31737                                          PAULIE         True   \n",
       "31738                        LIFE OF CRIME: 1984-2020         True   \n",
       "31739                               GENERATION HUSTLE         True   \n",
       "\n",
       "       ValueSearch  TimeFilter  TimeSearch  NumFunctHash  SizeArray  \n",
       "0             True       19700      250000             3          3  \n",
       "1             True        9200     1300400             3          3  \n",
       "2             True       18600     1394100             3          3  \n",
       "3             True       34900     1215300             3          3  \n",
       "4             True       22600     1984900             3          3  \n",
       "...            ...         ...         ...           ...        ...  \n",
       "31735         True       68900      350500            25         25  \n",
       "31736        False       62500     2362300            25         25  \n",
       "31737         True      102100      431100            25         25  \n",
       "31738        False       78200     2362000            25         25  \n",
       "31739        False      101500     2360000            25         25  \n",
       "\n",
       "[31740 rows x 7 columns]"
      ]
     },
     "execution_count": 62,
     "metadata": {},
     "output_type": "execute_result"
    }
   ],
   "source": [
    "dataset = pd.read_csv(\"resultados.txt\", dtype={\"WordSearch\":\"string\",\n",
    "                                               \"ValueFilter\":bool,\n",
    "                                               \"ValueSearch\":bool,\n",
    "                                               \"TimeFilter\":np.uint128,\n",
    "                                               \"TimeSearch\":np.uint128,\n",
    "                                               \"NumFunctHash\": np.uint16,\n",
    "                                               \"SizeArray\": np.uint16,\n",
    "                                               },\n",
    "                      )\n",
    "dataset"
   ]
  },
  {
   "cell_type": "code",
   "execution_count": 83,
   "metadata": {},
   "outputs": [],
   "source": [
    "dataset.dropna(inplace=True)\n",
    "dataset.reset_index(drop=True,inplace=True)"
   ]
  },
  {
   "cell_type": "code",
   "execution_count": 84,
   "metadata": {},
   "outputs": [
    {
     "name": "stdout",
     "output_type": "stream",
     "text": [
      "<class 'pandas.core.frame.DataFrame'>\n",
      "RangeIndex: 31736 entries, 0 to 31735\n",
      "Data columns (total 7 columns):\n",
      " #   Column        Non-Null Count  Dtype \n",
      "---  ------        --------------  ----- \n",
      " 0   WordSearch    31736 non-null  string\n",
      " 1   ValueFilter   31736 non-null  bool  \n",
      " 2   ValueSearch   31736 non-null  bool  \n",
      " 3   TimeFilter    31736 non-null  uint32\n",
      " 4   TimeSearch    31736 non-null  uint32\n",
      " 5   NumFunctHash  31736 non-null  uint8 \n",
      " 6   SizeArray     31736 non-null  uint8 \n",
      "dtypes: bool(2), string(1), uint32(2), uint8(2)\n",
      "memory usage: 620.0 KB\n"
     ]
    }
   ],
   "source": [
    "dataset.info()"
   ]
  },
  {
   "cell_type": "code",
   "execution_count": 85,
   "metadata": {},
   "outputs": [
    {
     "data": {
      "text/plain": [
       "31736"
      ]
     },
     "execution_count": 85,
     "metadata": {},
     "output_type": "execute_result"
    }
   ],
   "source": [
    "dataset.shape[0]"
   ]
  },
  {
   "cell_type": "code",
   "execution_count": 87,
   "metadata": {},
   "outputs": [],
   "source": [
    "dataset[\"RealTimeSearch\"] = [(dataset.loc[i,\"TimeFilter\"] + dataset.loc[i,\"TimeSearch\"] if not dataset.loc[i,\"ValueFilter\"] else dataset.loc[i,\"TimeFilter\"]) for i in range(dataset.shape[0])]"
   ]
  },
  {
   "cell_type": "code",
   "execution_count": 88,
   "metadata": {},
   "outputs": [
    {
     "name": "stdout",
     "output_type": "stream",
     "text": [
      "<class 'pandas.core.frame.DataFrame'>\n",
      "RangeIndex: 31736 entries, 0 to 31735\n",
      "Data columns (total 8 columns):\n",
      " #   Column          Non-Null Count  Dtype \n",
      "---  ------          --------------  ----- \n",
      " 0   WordSearch      31736 non-null  string\n",
      " 1   ValueFilter     31736 non-null  bool  \n",
      " 2   ValueSearch     31736 non-null  bool  \n",
      " 3   TimeFilter      31736 non-null  uint32\n",
      " 4   TimeSearch      31736 non-null  uint32\n",
      " 5   NumFunctHash    31736 non-null  uint8 \n",
      " 6   SizeArray       31736 non-null  uint8 \n",
      " 7   RealTimeSearch  31736 non-null  uint32\n",
      "dtypes: bool(2), string(1), uint32(3), uint8(2)\n",
      "memory usage: 743.9 KB\n"
     ]
    }
   ],
   "source": [
    "dataset.info()"
   ]
  },
  {
   "cell_type": "code",
   "execution_count": 109,
   "metadata": {},
   "outputs": [
    {
     "data": {
      "text/plain": [
       "<Axes: xlabel='SizeArray', ylabel='RealTimeSearch'>"
      ]
     },
     "execution_count": 109,
     "metadata": {},
     "output_type": "execute_result"
    },
    {
     "data": {
      "image/png": "[encoded data removed]",
      "text/plain": [
       "<Figure size 640x480 with 1 Axes>"
      ]
     },
     "metadata": {},
     "output_type": "display_data"
    }
   ],
   "source": [
    "sns.lineplot(dataset,\n",
    "             y=\"RealTimeSearch\",\n",
    "             x=\"SizeArray\",\n",
    "             hue=\"ValueSearch\",\n",
    "             estimator=\"median\",\n",
    "             )"
   ]
  },
  {
   "cell_type": "code",
   "execution_count": 108,
   "metadata": {},
   "outputs": [
    {
     "data": {
      "text/plain": [
       "<Axes: xlabel='NumFunctHash', ylabel='RealTimeSearch'>"
      ]
     },
     "execution_count": 108,
     "metadata": {},
     "output_type": "execute_result"
    },
    {
     "data": {
      "image/png": "[encoded data removed]",
      "text/plain": [
       "<Figure size 640x480 with 1 Axes>"
      ]
     },
     "metadata": {},
     "output_type": "display_data"
    }
   ],
   "source": [
    "sns.lineplot(dataset,\n",
    "             y=\"RealTimeSearch\",\n",
    "             x=\"NumFunctHash\",\n",
    "             hue=\"ValueSearch\",\n",
    "             estimator=\"median\",\n",
    "             )"
   ]
  },
  {
   "cell_type": "code",
   "execution_count": 113,
   "metadata": {},
   "outputs": [
    {
     "data": {
      "text/plain": [
       "array([ 3,  4,  5,  6,  7,  8,  9, 10, 11, 12, 13, 14, 15, 16, 17, 18, 19,\n",
       "       20, 21, 22, 23, 24, 25], dtype=uint8)"
      ]
     },
     "execution_count": 113,
     "metadata": {},
     "output_type": "execute_result"
    }
   ],
   "source": [
    "dataset[\"NumFunctHash\"].unique()"
   ]
  },
  {
   "cell_type": "code",
   "execution_count": 114,
   "metadata": {},
   "outputs": [
    {
     "data": {
      "text/plain": [
       "array([ 3,  4,  5,  6,  7,  8,  9, 10, 11, 12, 13, 14, 15, 16, 17, 18, 19,\n",
       "       20, 21, 22, 23, 24, 25], dtype=uint8)"
      ]
     },
     "execution_count": 114,
     "metadata": {},
     "output_type": "execute_result"
    }
   ],
   "source": [
    "dataset[\"SizeArray\"].unique()"
   ]
  },
  {
   "cell_type": "code",
   "execution_count": 116,
   "metadata": {},
   "outputs": [
    {
     "ename": "AttributeError",
     "evalue": "'numpy.ndarray' object has no attribute 'merge'",
     "output_type": "error",
     "traceback": [
      "\u001b[1;31m---------------------------------------------------------------------------\u001b[0m",
      "\u001b[1;31mAttributeError\u001b[0m                            Traceback (most recent call last)",
      "Cell \u001b[1;32mIn[116], line 1\u001b[0m\n\u001b[1;32m----> 1\u001b[0m dataset[\u001b[39m\"\u001b[39;49m\u001b[39mSizeArray\u001b[39;49m\u001b[39m\"\u001b[39;49m]\u001b[39m.\u001b[39;49munique()\u001b[39m.\u001b[39;49mmerge( right\u001b[39m=\u001b[39mdataset[\u001b[39m\"\u001b[39m\u001b[39mNumFunctHash\u001b[39m\u001b[39m\"\u001b[39m]\u001b[39m.\u001b[39munique(), how\u001b[39m=\u001b[39m\u001b[39m\"\u001b[39m\u001b[39mcross\u001b[39m\u001b[39m\"\u001b[39m)\n",
      "\u001b[1;31mAttributeError\u001b[0m: 'numpy.ndarray' object has no attribute 'merge'"
     ]
    }
   ],
   "source": [
    "dataset[\"SizeArray\"].unique().merge( right=dataset[\"NumFunctHash\"].unique(), how=\"cross\")"
   ]
  }
 ],
 "metadata": {
  "kernelspec": {
   "display_name": ".venv",
   "language": "python",
   "name": "python3"
  },
  "language_info": {
   "codemirror_mode": {
    "name": "ipython",
    "version": 3
   },
   "file_extension": ".py",
   "mimetype": "text/x-python",
   "name": "python",
   "nbconvert_exporter": "python",
   "pygments_lexer": "ipython3",
   "version": "3.10.10"
  },
  "orig_nbformat": 4
 },
 "nbformat": 4,
 "nbformat_minor": 2
}
