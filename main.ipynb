{
 "cells": [
  {
   "attachments": {},
   "cell_type": "markdown",
   "metadata": {},
   "source": [
    "# Main"
   ]
  },
  {
   "attachments": {},
   "cell_type": "markdown",
   "metadata": {},
   "source": [
    "## Librerias a utilizar"
   ]
  },
  {
   "cell_type": "code",
   "execution_count": 1,
   "metadata": {},
   "outputs": [],
   "source": [
    "import matplotlib.pyplot as plt\n",
    "import numpy as np\n",
    "import seaborn as sns\n",
    "import pandas as pd\n",
    "import time\n",
    "import sys\n",
    "import hashlib\n"
   ]
  },
  {
   "attachments": {},
   "cell_type": "markdown",
   "metadata": {},
   "source": [
    "## Importando CSV"
   ]
  },
  {
   "cell_type": "code",
   "execution_count": 2,
   "metadata": {},
   "outputs": [],
   "source": [
    "df_names = pd.read_table('Popular-Baby-Names-Final.csv', dtype={\"Name\": \"string\"})"
   ]
  },
  {
   "cell_type": "code",
   "execution_count": 3,
   "metadata": {},
   "outputs": [
    {
     "name": "stdout",
     "output_type": "stream",
     "text": [
      "<class 'pandas.core.frame.DataFrame'>\n",
      "RangeIndex: 93889 entries, 0 to 93888\n",
      "Data columns (total 1 columns):\n",
      " #   Column  Non-Null Count  Dtype \n",
      "---  ------  --------------  ----- \n",
      " 0   Name    93888 non-null  string\n",
      "dtypes: string(1)\n",
      "memory usage: 733.6 KB\n"
     ]
    }
   ],
   "source": [
    "df_names.info()"
   ]
  },
  {
   "cell_type": "code",
   "execution_count": 4,
   "metadata": {},
   "outputs": [],
   "source": [
    "array_names = df_names.dropna().Name.to_numpy()\n",
    "array_names.astype(str, copy=False)\n",
    "del df_names"
   ]
  },
  {
   "cell_type": "code",
   "execution_count": 5,
   "metadata": {},
   "outputs": [
    {
     "data": {
      "text/plain": [
       "751216"
      ]
     },
     "execution_count": 5,
     "metadata": {},
     "output_type": "execute_result"
    }
   ],
   "source": [
    "sys.getsizeof(array_names)"
   ]
  },
  {
   "cell_type": "code",
   "execution_count": 6,
   "metadata": {},
   "outputs": [],
   "source": [
    "df_movie = pd.read_csv(\"Film-Names.csv\", skiprows=1,names=[\"Name\"], dtype={\"Name\": \"string\"})"
   ]
  },
  {
   "cell_type": "code",
   "execution_count": 7,
   "metadata": {},
   "outputs": [],
   "source": [
    "df_movie = df_movie.replace(\";\",\"\", regex=True)"
   ]
  },
  {
   "cell_type": "code",
   "execution_count": 8,
   "metadata": {},
   "outputs": [],
   "source": [
    "array_movies = df_movie.dropna().Name.to_numpy()\n",
    "array_movies.astype(str, copy=False)\n",
    "del df_movie"
   ]
  },
  {
   "cell_type": "code",
   "execution_count": 9,
   "metadata": {},
   "outputs": [
    {
     "data": {
      "text/plain": [
       "30576"
      ]
     },
     "execution_count": 9,
     "metadata": {},
     "output_type": "execute_result"
    }
   ],
   "source": [
    "sys.getsizeof(array_movies)"
   ]
  },
  {
   "attachments": {},
   "cell_type": "markdown",
   "metadata": {},
   "source": [
    "## Creando el Filtro Bloom"
   ]
  },
  {
   "cell_type": "code",
   "execution_count": 10,
   "metadata": {},
   "outputs": [
    {
     "name": "stdout",
     "output_type": "stream",
     "text": [
      "Value ola: [5, 5, 5]\n",
      "Value perro: [9, 9, 9]\n",
      "Value 123: [8, 8, 8]\n",
      "Value xd: [9, 9, 9]\n",
      "Value aaaaaaaaaaaaaaaaahhhh: [2, 2, 2]\n",
      "Value ola: [4, 7, 5]\n",
      "Value perro: [1, 5, 8]\n",
      "Value 123: [2, 3, 9]\n",
      "Value xd: [6, 9, 2]\n",
      "Value aaaaaaaaaaaaaaaaahhhh: [8, 4, 3]\n"
     ]
    }
   ],
   "source": [
    "\n",
    "# Función que crea un arreglo con funciones de hashing, se usa como muestra el siguiente ejemplo\n",
    "def create_hash_functions(k, m):\n",
    "    hash_functions = []\n",
    "    for i in range(k):\n",
    "        def hash_function(value):\n",
    "            hash_object = hashlib.sha256(str(i).encode('utf-8'))\n",
    "            hash_object.update(str(value).encode('utf-8'))\n",
    "            hash_value = int(hash_object.hexdigest(), 16)\n",
    "            return hash_value % m\n",
    "        hash_functions.append(hash_function)\n",
    "    return hash_functions\n",
    "\n",
    "#----------------------------------------\n",
    "# Ejemplo de prueba:\n",
    "\n",
    "# Se crea un arreglo con k=3 funciones hashing y largo del arreglo m=10 bits\n",
    "hash_functions = create_hash_functions(3, 10)\n",
    "\n",
    "# Conjunto de elementos de prueba\n",
    "values = [\"ola\", \"perro\", \"123\", \"xd\", \"aaaaaaaaaaaaaaaaahhhh\"]\n",
    "\n",
    "# Por cada elemento en values, calculo el hashing (es decir la posición en M) por cada función de hashing (en nuestro caso las funciones son k=3)\n",
    "for value in values:\n",
    "    hash_values = [hash_function(value) for hash_function in hash_functions]\n",
    "    print(f\"Value {value}: {hash_values}\")\n",
    "\n",
    "#----------------------------------------\n",
    "\n",
    "#Intento 2 de la creación de las funciones de hashing:\n",
    "def hash_generator(m):\n",
    "    i = 0\n",
    "    while True:\n",
    "        # Define una función hash que toma un valor como entrada y devuelve un valor hash\n",
    "        def hash_function(value):\n",
    "            nonlocal i\n",
    "            # Crea un objeto hash utilizando SHA-256 y la semilla i\n",
    "            hash_object = hashlib.sha256(str(i).encode('utf-8'))\n",
    "            # Actualiza el objeto hash con el valor de entrada\n",
    "            hash_object.update(str(value).encode('utf-8'))\n",
    "            # Obtiene el valor hash y lo convierte en un número entero\n",
    "            hash_value = int(hash_object.hexdigest(), 16)\n",
    "            # Incrementa la semilla i\n",
    "            i += 1\n",
    "            # Devuelve el valor hash módulo m\n",
    "            return hash_value % m\n",
    "        # Devuelve la función hash creada\n",
    "        yield hash_function\n",
    "\n",
    "# create a hash generator with range m (length of M)\n",
    "m=10\n",
    "hash_gen = hash_generator(10)\n",
    "\n",
    "# generate k=3 hash functions\n",
    "k = 3\n",
    "hash_functions = [next(hash_gen) for _ in range(k)]\n",
    "\n",
    "# apply each value to each hash function\n",
    "values = [\"ola\", \"perro\", \"123\", \"xd\", \"aaaaaaaaaaaaaaaaahhhh\"]\n",
    "for value in values:\n",
    "    hash_values = [hash_function(value) for hash_function in hash_functions]\n",
    "    print(f\"Value {value}: {hash_values}\")\n"
   ]
  },
  {
   "attachments": {},
   "cell_type": "markdown",
   "metadata": {},
   "source": [
    "## Creando búsquedas"
   ]
  },
  {
   "cell_type": "code",
   "execution_count": 11,
   "metadata": {},
   "outputs": [],
   "source": [
    "class SearchBloomExp:\n",
    "    \n",
    "    def __init__(self, database: np.ndarray[str], num_funct_hash: int, size_array_M: int) -> None:\n",
    "        self.arrayM = np.zeros(size_array_M, dtype=int)\n",
    "        hash_gen = hash_generator(size_array_M)\n",
    "        self.listFuncHash = [next(hash_gen) for _ in range(num_funct_hash)]\n",
    "        self.db = database.copy()\n",
    "        # train function hash\n",
    "        for x in self.db:\n",
    "            list_index = [f_hash(x) for f_hash in self.listFuncHash]\n",
    "            for y in list_index:\n",
    "                self.arrayM[y] = 1\n",
    "            \n",
    "        \n",
    "    def busqueda_sin_filtro(self, texto: str) -> bool:\n",
    "        for name in self.db:\n",
    "            if (name == texto):\n",
    "                return True\n",
    "        return False\n",
    "    \n",
    "    def filtro_bloom(self, texto: str) -> bool:\n",
    "        # Obtenemos\n",
    "        list_index = [f_hash(texto) for f_hash in self.listFuncHash]\n",
    "        return bool(np.array([self.arrayM[y] for y in list_index]).prod())"
   ]
  },
  {
   "attachments": {},
   "cell_type": "markdown",
   "metadata": {},
   "source": [
    "## Experimentos"
   ]
  },
  {
   "cell_type": "code",
   "execution_count": 16,
   "metadata": {},
   "outputs": [],
   "source": [
    "word_search = []\n",
    "value_filter = []\n",
    "value_search = []\n",
    "time_filter = []\n",
    "time_search = []\n",
    "num_funct_hash = []\n",
    "size_array = []\n",
    "\n",
    "# Condiciones del experimento\n",
    "k_max = 25\n",
    "M_max = 25\n",
    "seed = 1234\n",
    "rng = np.random.default_rng(seed=seed)\n",
    "database = array_names\n",
    "data_false = array_movies\n",
    "size_test = 30\n",
    "\n",
    "for k in range(3,k_max+1):\n",
    "    for M in range(3,M_max+1):\n",
    "        # Creamos un objeto que nos ayudara con los procesos internos\n",
    "        test = SearchBloomExp(database=database,num_funct_hash=k+1,size_array_M=M+1)\n",
    "        # Partiremos haciendo que busque elementos\n",
    "        # que sabemos que estan en la base de datos\n",
    "        # analizando los resultados del filtro como \n",
    "        # de buscar directamente en la base de datos\n",
    "        \n",
    "        sample_database = rng.choice(database, size=size_test,replace=False).astype(str,copy=False)\n",
    "        \n",
    "        word_search += [txt for txt in sample_database]\n",
    "        num_funct_hash += [k for _ in sample_database]   \n",
    "        size_array += [M for _ in sample_database]\n",
    "        \n",
    "        for name in sample_database:\n",
    "            # Busqueda en el filtro   \n",
    "            init_time = time.perf_counter_ns()\n",
    "            res = test.filtro_bloom(name)\n",
    "            time_filter.append(time.perf_counter_ns()-init_time)\n",
    "            value_filter.append(res)\n",
    "            # Busqueda en la DB\n",
    "            init_time = time.perf_counter_ns()\n",
    "            res = test.busqueda_sin_filtro(name)\n",
    "            time_search.append(time.perf_counter_ns()-init_time)\n",
    "            value_search.append(res)\n",
    "\n",
    "        sample_data_false = rng.choice(data_false, size=size_test,replace=False).astype(str,copy=False)\n",
    "        # Ahora analizamos los tiempos de las busquedas infrutiferas\n",
    "        word_search += [txt for txt in sample_data_false]\n",
    "        num_funct_hash += [k for _ in sample_data_false]   \n",
    "        size_array += [M for _ in sample_data_false]\n",
    "        for name in sample_data_false:\n",
    "            # Busqueda en el filtro   \n",
    "            init_time = time.perf_counter_ns()\n",
    "            res = test.filtro_bloom(name)\n",
    "            time_filter.append(time.perf_counter_ns()-init_time)\n",
    "            value_filter.append(res)\n",
    "            # Busqueda en la DB\n",
    "            init_time = time.perf_counter_ns()\n",
    "            res = test.busqueda_sin_filtro(name)\n",
    "            time_search.append(time.perf_counter_ns()-init_time)\n",
    "            value_search.append(res)\n",
    "        \n",
    "        # Liberamos memoria y dejamos la variable test limpia\n",
    "        del test\n",
    "\n",
    "dict_data = {\"WordSearch\":word_search,\n",
    "             \"ValueFilter\":value_filter,\n",
    "             \"ValueSearch\":value_search,\n",
    "             \"TimeFilter\":time_filter,\n",
    "             \"TimeSearch\":time_search,\n",
    "             \"NumFunctHash\": num_funct_hash,\n",
    "             \"SizeArray\": size_array,\n",
    "             }\n",
    "\n",
    "df = pd.DataFrame(dict_data)\n",
    "\n",
    "df.to_csv(\"resultados.txt\", index=False)"
   ]
  },
  {
   "cell_type": "code",
   "execution_count": 21,
   "metadata": {},
   "outputs": [
    {
     "data": {
      "text/html": [
       "<div>\n",
       "<style scoped>\n",
       "    .dataframe tbody tr th:only-of-type {\n",
       "        vertical-align: middle;\n",
       "    }\n",
       "\n",
       "    .dataframe tbody tr th {\n",
       "        vertical-align: top;\n",
       "    }\n",
       "\n",
       "    .dataframe thead th {\n",
       "        text-align: right;\n",
       "    }\n",
       "</style>\n",
       "<table border=\"1\" class=\"dataframe\">\n",
       "  <thead>\n",
       "    <tr style=\"text-align: right;\">\n",
       "      <th></th>\n",
       "      <th>WordSearch</th>\n",
       "      <th>ValueFilter</th>\n",
       "      <th>ValueSearch</th>\n",
       "      <th>TimeFilter</th>\n",
       "      <th>TimeSearch</th>\n",
       "      <th>NumFunctHash</th>\n",
       "      <th>SizeArray</th>\n",
       "    </tr>\n",
       "  </thead>\n",
       "  <tbody>\n",
       "    <tr>\n",
       "      <th>0</th>\n",
       "      <td>AURIYAH</td>\n",
       "      <td>True</td>\n",
       "      <td>True</td>\n",
       "      <td>20500</td>\n",
       "      <td>1506600</td>\n",
       "      <td>3</td>\n",
       "      <td>3</td>\n",
       "    </tr>\n",
       "    <tr>\n",
       "      <th>1</th>\n",
       "      <td>SHELISE</td>\n",
       "      <td>True</td>\n",
       "      <td>True</td>\n",
       "      <td>21700</td>\n",
       "      <td>487700</td>\n",
       "      <td>3</td>\n",
       "      <td>3</td>\n",
       "    </tr>\n",
       "    <tr>\n",
       "      <th>2</th>\n",
       "      <td>ADALIN</td>\n",
       "      <td>True</td>\n",
       "      <td>True</td>\n",
       "      <td>8600</td>\n",
       "      <td>1234700</td>\n",
       "      <td>3</td>\n",
       "      <td>3</td>\n",
       "    </tr>\n",
       "    <tr>\n",
       "      <th>3</th>\n",
       "      <td>SAMICA</td>\n",
       "      <td>True</td>\n",
       "      <td>True</td>\n",
       "      <td>10300</td>\n",
       "      <td>592400</td>\n",
       "      <td>3</td>\n",
       "      <td>3</td>\n",
       "    </tr>\n",
       "    <tr>\n",
       "      <th>4</th>\n",
       "      <td>RAIDA</td>\n",
       "      <td>True</td>\n",
       "      <td>True</td>\n",
       "      <td>9300</td>\n",
       "      <td>1506700</td>\n",
       "      <td>3</td>\n",
       "      <td>3</td>\n",
       "    </tr>\n",
       "    <tr>\n",
       "      <th>...</th>\n",
       "      <td>...</td>\n",
       "      <td>...</td>\n",
       "      <td>...</td>\n",
       "      <td>...</td>\n",
       "      <td>...</td>\n",
       "      <td>...</td>\n",
       "      <td>...</td>\n",
       "    </tr>\n",
       "    <tr>\n",
       "      <th>6755</th>\n",
       "      <td>12 STRONG</td>\n",
       "      <td>True</td>\n",
       "      <td>False</td>\n",
       "      <td>47300</td>\n",
       "      <td>2408200</td>\n",
       "      <td>15</td>\n",
       "      <td>15</td>\n",
       "    </tr>\n",
       "    <tr>\n",
       "      <th>6756</th>\n",
       "      <td>POSSESSIONS</td>\n",
       "      <td>True</td>\n",
       "      <td>False</td>\n",
       "      <td>58000</td>\n",
       "      <td>2472400</td>\n",
       "      <td>15</td>\n",
       "      <td>15</td>\n",
       "    </tr>\n",
       "    <tr>\n",
       "      <th>6757</th>\n",
       "      <td>DEAD MAN</td>\n",
       "      <td>True</td>\n",
       "      <td>False</td>\n",
       "      <td>48000</td>\n",
       "      <td>2525200</td>\n",
       "      <td>15</td>\n",
       "      <td>15</td>\n",
       "    </tr>\n",
       "    <tr>\n",
       "      <th>6758</th>\n",
       "      <td>JULIE</td>\n",
       "      <td>True</td>\n",
       "      <td>True</td>\n",
       "      <td>58700</td>\n",
       "      <td>12100</td>\n",
       "      <td>15</td>\n",
       "      <td>15</td>\n",
       "    </tr>\n",
       "    <tr>\n",
       "      <th>6759</th>\n",
       "      <td>ON THE RECORD WITH BOB COSTAS</td>\n",
       "      <td>True</td>\n",
       "      <td>False</td>\n",
       "      <td>42400</td>\n",
       "      <td>2406700</td>\n",
       "      <td>15</td>\n",
       "      <td>15</td>\n",
       "    </tr>\n",
       "  </tbody>\n",
       "</table>\n",
       "<p>6760 rows × 7 columns</p>\n",
       "</div>"
      ],
      "text/plain": [
       "                         WordSearch  ValueFilter  ValueSearch  TimeFilter  \\\n",
       "0                           AURIYAH         True         True       20500   \n",
       "1                           SHELISE         True         True       21700   \n",
       "2                            ADALIN         True         True        8600   \n",
       "3                            SAMICA         True         True       10300   \n",
       "4                             RAIDA         True         True        9300   \n",
       "...                             ...          ...          ...         ...   \n",
       "6755                      12 STRONG         True        False       47300   \n",
       "6756                    POSSESSIONS         True        False       58000   \n",
       "6757                       DEAD MAN         True        False       48000   \n",
       "6758                          JULIE         True         True       58700   \n",
       "6759  ON THE RECORD WITH BOB COSTAS         True        False       42400   \n",
       "\n",
       "      TimeSearch  NumFunctHash  SizeArray  \n",
       "0        1506600             3          3  \n",
       "1         487700             3          3  \n",
       "2        1234700             3          3  \n",
       "3         592400             3          3  \n",
       "4        1506700             3          3  \n",
       "...          ...           ...        ...  \n",
       "6755     2408200            15         15  \n",
       "6756     2472400            15         15  \n",
       "6757     2525200            15         15  \n",
       "6758       12100            15         15  \n",
       "6759     2406700            15         15  \n",
       "\n",
       "[6760 rows x 7 columns]"
      ]
     },
     "execution_count": 21,
     "metadata": {},
     "output_type": "execute_result"
    }
   ],
   "source": [
    "dataset = pd.read_csv(\"resultados.txt\", dtype={\"WordSearch\":\"string\",\n",
    "                                               \"ValueFilter\":bool,\n",
    "                                               \"ValueSearch\":bool,\n",
    "                                               \"TimeFilter\":np.uint32,\n",
    "                                               \"TimeSearch\":np.uint32,\n",
    "                                               \"NumFunctHash\": np.uint8,\n",
    "                                               \"SizeArray\": np.uint8,\n",
    "                                               },\n",
    "                      )\n",
    "dataset"
   ]
  },
  {
   "cell_type": "code",
   "execution_count": 22,
   "metadata": {},
   "outputs": [
    {
     "name": "stdout",
     "output_type": "stream",
     "text": [
      "<class 'pandas.core.frame.DataFrame'>\n",
      "RangeIndex: 6760 entries, 0 to 6759\n",
      "Data columns (total 7 columns):\n",
      " #   Column        Non-Null Count  Dtype \n",
      "---  ------        --------------  ----- \n",
      " 0   WordSearch    6760 non-null   string\n",
      " 1   ValueFilter   6760 non-null   bool  \n",
      " 2   ValueSearch   6760 non-null   bool  \n",
      " 3   TimeFilter    6760 non-null   uint32\n",
      " 4   TimeSearch    6760 non-null   uint32\n",
      " 5   NumFunctHash  6760 non-null   uint8 \n",
      " 6   SizeArray     6760 non-null   uint8 \n",
      "dtypes: bool(2), string(1), uint32(2), uint8(2)\n",
      "memory usage: 132.2 KB\n"
     ]
    }
   ],
   "source": [
    "dataset.info()"
   ]
  }
 ],
 "metadata": {
  "kernelspec": {
   "display_name": ".venv",
   "language": "python",
   "name": "python3"
  },
  "language_info": {
   "codemirror_mode": {
    "name": "ipython",
    "version": 3
   },
   "file_extension": ".py",
   "mimetype": "text/x-python",
   "name": "python",
   "nbconvert_exporter": "python",
   "pygments_lexer": "ipython3",
   "version": "3.10.10"
  },
  "orig_nbformat": 4
 },
 "nbformat": 4,
 "nbformat_minor": 2
}
